{
 "cells": [
  {
   "cell_type": "code",
   "execution_count": 24,
   "metadata": {},
   "outputs": [],
   "source": [
    "from utils.intersection_over_union import intersection_over_union\n",
    "import torch"
   ]
  },
  {
   "cell_type": "code",
   "execution_count": 33,
   "metadata": {},
   "outputs": [],
   "source": [
    "bboxes = [\n",
    "    [1, 1, 0.5, 0.45, 0.4, 0.5],\n",
    "    [1, 0.8, 0.5, 0.5, 0.2, 0.4],\n",
    "    [1, 0.7, 0.25, 0.35, 0.3, 0.1],\n",
    "    [1, 0.05, 0.1, 0.1, 0.1, 0.1],\n",
    "]\n",
    "\n",
    "threshold = 0.2\n",
    "\n",
    "iou_threshold = 0.45\n"
   ]
  },
  {
   "cell_type": "code",
   "execution_count": 31,
   "metadata": {},
   "outputs": [
    {
     "data": {
      "text/plain": [
       "'-----'"
      ]
     },
     "metadata": {},
     "output_type": "display_data"
    },
    {
     "data": {
      "text/plain": [
       "'bboxes'"
      ]
     },
     "metadata": {},
     "output_type": "display_data"
    },
    {
     "data": {
      "text/plain": [
       "'-----'"
      ]
     },
     "metadata": {},
     "output_type": "display_data"
    },
    {
     "data": {
      "text/plain": [
       "[[1, 0.8, 0.5, 0.5, 0.2, 0.4], [1, 0.7, 0.25, 0.35, 0.3, 0.1]]"
      ]
     },
     "metadata": {},
     "output_type": "display_data"
    },
    {
     "data": {
      "text/plain": [
       "'-----'"
      ]
     },
     "metadata": {},
     "output_type": "display_data"
    },
    {
     "data": {
      "text/plain": [
       "'bboxes'"
      ]
     },
     "metadata": {},
     "output_type": "display_data"
    },
    {
     "data": {
      "text/plain": [
       "'-----'"
      ]
     },
     "metadata": {},
     "output_type": "display_data"
    },
    {
     "data": {
      "text/plain": [
       "[[1, 0.7, 0.25, 0.35, 0.3, 0.1]]"
      ]
     },
     "metadata": {},
     "output_type": "display_data"
    },
    {
     "data": {
      "text/plain": [
       "'-----'"
      ]
     },
     "metadata": {},
     "output_type": "display_data"
    },
    {
     "data": {
      "text/plain": [
       "'bboxes'"
      ]
     },
     "metadata": {},
     "output_type": "display_data"
    },
    {
     "data": {
      "text/plain": [
       "'-----'"
      ]
     },
     "metadata": {},
     "output_type": "display_data"
    },
    {
     "data": {
      "text/plain": [
       "[]"
      ]
     },
     "metadata": {},
     "output_type": "display_data"
    }
   ],
   "source": [
    "bboxes = [box for box in bboxes if box[1] > threshold]\n",
    "bboxes = sorted(bboxes, key=lambda x: x[1], reverse=True)\n",
    "bboxes_after_nms = []\n",
    "\n",
    "while bboxes:\n",
    "    chosen_box = bboxes.pop(0)\n",
    "\n",
    "    bboxes = [\n",
    "        box\n",
    "        for box in bboxes\n",
    "            if box[0] != chosen_box[0]\n",
    "            or intersection_over_union(\n",
    "                pred_boxes=torch.tensor(chosen_box[2:]),\n",
    "                label_boxes=torch.tensor(box[2:]),\n",
    "                format_boxes='corners',\n",
    "        )\n",
    "        < iou_threshold\n",
    "    ]\n",
    "\n",
    "    display('-'*5, 'bboxes', '-'*5)\n",
    "    display(bboxes)\n",
    "\n",
    "    bboxes_after_nms.append(chosen_box)"
   ]
  },
  {
   "cell_type": "code",
   "execution_count": 43,
   "metadata": {},
   "outputs": [
    {
     "data": {
      "text/plain": [
       "'clean_bbox'"
      ]
     },
     "metadata": {},
     "output_type": "display_data"
    },
    {
     "data": {
      "text/plain": [
       "[[1, 0.8, 0.5, 0.5, 0.2, 0.4], [1, 0.7, 0.25, 0.35, 0.3, 0.1]]"
      ]
     },
     "metadata": {},
     "output_type": "display_data"
    },
    {
     "data": {
      "text/plain": [
       "'clean_bbox'"
      ]
     },
     "metadata": {},
     "output_type": "display_data"
    },
    {
     "data": {
      "text/plain": [
       "[[1, 0.7, 0.25, 0.35, 0.3, 0.1]]"
      ]
     },
     "metadata": {},
     "output_type": "display_data"
    },
    {
     "data": {
      "text/plain": [
       "'clean_bbox'"
      ]
     },
     "metadata": {},
     "output_type": "display_data"
    },
    {
     "data": {
      "text/plain": [
       "[]"
      ]
     },
     "metadata": {},
     "output_type": "display_data"
    }
   ],
   "source": [
    "remaining_bboxes = []\n",
    "\n",
    "# Looping through all of the bounding boxes\n",
    "for box in bboxes:\n",
    "    # Only keeping ones with a high enough probability\n",
    "    if box[1] > threshold:\n",
    "        remaining_bboxes.append(box)\n",
    "\n",
    "# Sorting the bboxes left over in descending order of their probability\n",
    "remaining_bboxes = sorted(remaining_bboxes, key=lambda x:[1], reverse=True)\n",
    "\n",
    "# Bounding boxes after non-max suppression\n",
    "bboxes_after_nms = []\n",
    "\n",
    "# Looping through the bounding boxes\n",
    "while remaining_bboxes:\n",
    "    chosen_box = remaining_bboxes.pop(0)\n",
    "\n",
    "    clean_bbox = []\n",
    "    for box in remaining_bboxes:\n",
    "\n",
    "        # If they are not of the same class, not going to compare them\n",
    "        condition_one = box[0] != chosen_box[0]\n",
    "\n",
    "        # Calculating the intersection over union and checking threshold\n",
    "        condition_two = intersection_over_union(\n",
    "                pred_boxes=torch.tensor(chosen_box[2:]),\n",
    "                label_boxes=torch.tensor(box[2:]),\n",
    "                format_boxes='corners') < iou_threshold\n",
    "\n",
    "        if condition_one or condition_two:\n",
    "            clean_bbox.append(box)\n",
    "\n",
    "    # Replacing the remaining bboxes after they have been filtered\n",
    "    remaining_bboxes = clean_bbox\n",
    "    display('clean_bbox')\n",
    "    display(clean_bbox)\n",
    "\n",
    "    bboxes_after_nms.append(chosen_box)"
   ]
  }
 ],
 "metadata": {
  "kernelspec": {
   "display_name": "Python 3.10.5 64-bit",
   "language": "python",
   "name": "python3"
  },
  "language_info": {
   "codemirror_mode": {
    "name": "ipython",
    "version": 3
   },
   "file_extension": ".py",
   "mimetype": "text/x-python",
   "name": "python",
   "nbconvert_exporter": "python",
   "pygments_lexer": "ipython3",
   "version": "3.10.5"
  },
  "orig_nbformat": 4,
  "vscode": {
   "interpreter": {
    "hash": "f61707aa6b5e002e3fada7ca9a689201e71ada622b6bdff44c333db92e644e25"
   }
  }
 },
 "nbformat": 4,
 "nbformat_minor": 2
}
